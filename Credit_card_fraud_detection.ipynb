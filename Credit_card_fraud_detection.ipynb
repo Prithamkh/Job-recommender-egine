{
 "cells": [
  {
   "cell_type": "markdown",
   "metadata": {
    "colab_type": "text",
    "id": "view-in-github"
   },
   "source": [
    "<a href=\"https://colab.research.google.com/github/JoaoSiqueiraDS/Joao_Siqueira_Portifolio/blob/master/Credit_card_fraud_detection.ipynb\" target=\"_parent\"><img src=\"https://colab.research.google.com/assets/colab-badge.svg\" alt=\"Open In Colab\"/></a>"
   ]
  },
  {
   "cell_type": "code",
   "execution_count": 98,
   "metadata": {
    "id": "oQ4bNy7udtEE"
   },
   "outputs": [
    {
     "name": "stderr",
     "output_type": "stream",
     "text": [
      "WARNING: Ignoring invalid distribution -ffi (c:\\users\\ajay\\appdata\\roaming\\python\\python38\\site-packages)\n",
      "WARNING: Ignoring invalid distribution -ffi (c:\\users\\ajay\\appdata\\roaming\\python\\python38\\site-packages)\n",
      "WARNING: Ignoring invalid distribution -ffi (c:\\users\\ajay\\appdata\\roaming\\python\\python38\\site-packages)\n",
      "WARNING: Ignoring invalid distribution -ffi (c:\\users\\ajay\\appdata\\roaming\\python\\python38\\site-packages)\n",
      "WARNING: Ignoring invalid distribution -ffi (c:\\users\\ajay\\appdata\\roaming\\python\\python38\\site-packages)\n",
      "WARNING: Ignoring invalid distribution -ffi (c:\\users\\ajay\\appdata\\roaming\\python\\python38\\site-packages)\n",
      "\n",
      "[notice] A new release of pip available: 22.2.2 -> 23.0\n",
      "[notice] To update, run: python.exe -m pip install --upgrade pip\n"
     ]
    }
   ],
   "source": [
    "# Importing the libraries\n",
    "\n",
    "import pandas as pd\n",
    "import numpy as np\n",
    "import matplotlib.pyplot as plt\n",
    "import seaborn as sns\n",
    "\n",
    "from sklearn.model_selection import train_test_split\n",
    "from sklearn.preprocessing import StandardScaler\n",
    "from sklearn.linear_model import LogisticRegression\n",
    "from sklearn.metrics import classification_report\n",
    "from sklearn.metrics import roc_auc_score, roc_curve, accuracy_score\n",
    "\n",
    "from imblearn.under_sampling import RandomUnderSampler\n",
    "\n",
    "# configure Seaborn\n",
    "\n",
    "sns.set_style('dark')\n",
    "\n",
    "!pip install -q scikit-plot\n",
    "\n",
    "import scikitplot as skplt"
   ]
  },
  {
   "cell_type": "markdown",
   "metadata": {
    "id": "g5XDTWW5LRVe"
   },
   "source": [
    "Then the data set is related to a variable *df* . Yet in this part a test data frame is created using the .sample() method. This data frame is going to be used as an ultimate validation of the trained model.\n"
   ]
  },
  {
   "cell_type": "code",
   "execution_count": 99,
   "metadata": {
    "id": "4NxUOfDOj2j8"
   },
   "outputs": [],
   "source": [
    "file_path = \"creditcard.csv\"\n",
    "\n",
    "# Importing the data set to dataframe (df)\n",
    "\n",
    "df = pd.read_csv(file_path)\n",
    "\n",
    "# Creating a test dataset\n",
    "\n",
    "test = df.sample(frac=0.15, random_state=0)"
   ]
  },
  {
   "cell_type": "markdown",
   "metadata": {
    "id": "7nF_Dhd81Cvq"
   },
   "source": [
    "Nice … Now with our data frame df defined it is possible to analyze the data. Through the method df.head()   it was possible to take very first look at the data and the method df.describe() could give us some statistical information. For example, through this last analysis it was possible to detect outliers in the \"Amount\" variable. Another important analysis done was counting the number of null values on each column. That was possible through a simple command df.isnull().sum(). There are no missing values. \n",
    "Checking how balanced is the data set is the next step. Seaborn is a good option for this kind of analysis.\n",
    "\n"
   ]
  },
  {
   "cell_type": "code",
   "execution_count": 100,
   "metadata": {
    "colab": {
     "base_uri": "https://localhost:8080/",
     "height": 270
    },
    "id": "tsrPfYWUpdFg",
    "outputId": "eb3898ac-3e59-437e-84bd-b74e52c2fc81"
   },
   "outputs": [
    {
     "data": {
      "text/html": [
       "<div>\n",
       "<style scoped>\n",
       "    .dataframe tbody tr th:only-of-type {\n",
       "        vertical-align: middle;\n",
       "    }\n",
       "\n",
       "    .dataframe tbody tr th {\n",
       "        vertical-align: top;\n",
       "    }\n",
       "\n",
       "    .dataframe thead th {\n",
       "        text-align: right;\n",
       "    }\n",
       "</style>\n",
       "<table border=\"1\" class=\"dataframe\">\n",
       "  <thead>\n",
       "    <tr style=\"text-align: right;\">\n",
       "      <th></th>\n",
       "      <th>Time</th>\n",
       "      <th>V1</th>\n",
       "      <th>V2</th>\n",
       "      <th>V3</th>\n",
       "      <th>V4</th>\n",
       "      <th>V5</th>\n",
       "      <th>V6</th>\n",
       "      <th>V7</th>\n",
       "      <th>V8</th>\n",
       "      <th>V9</th>\n",
       "      <th>...</th>\n",
       "      <th>V21</th>\n",
       "      <th>V22</th>\n",
       "      <th>V23</th>\n",
       "      <th>V24</th>\n",
       "      <th>V25</th>\n",
       "      <th>V26</th>\n",
       "      <th>V27</th>\n",
       "      <th>V28</th>\n",
       "      <th>Amount</th>\n",
       "      <th>Class</th>\n",
       "    </tr>\n",
       "  </thead>\n",
       "  <tbody>\n",
       "    <tr>\n",
       "      <th>0</th>\n",
       "      <td>0.0</td>\n",
       "      <td>-1.359807</td>\n",
       "      <td>-0.072781</td>\n",
       "      <td>2.536347</td>\n",
       "      <td>1.378155</td>\n",
       "      <td>-0.338321</td>\n",
       "      <td>0.462388</td>\n",
       "      <td>0.239599</td>\n",
       "      <td>0.098698</td>\n",
       "      <td>0.363787</td>\n",
       "      <td>...</td>\n",
       "      <td>-0.018307</td>\n",
       "      <td>0.277838</td>\n",
       "      <td>-0.110474</td>\n",
       "      <td>0.066928</td>\n",
       "      <td>0.128539</td>\n",
       "      <td>-0.189115</td>\n",
       "      <td>0.133558</td>\n",
       "      <td>-0.021053</td>\n",
       "      <td>149.62</td>\n",
       "      <td>0</td>\n",
       "    </tr>\n",
       "    <tr>\n",
       "      <th>1</th>\n",
       "      <td>0.0</td>\n",
       "      <td>1.191857</td>\n",
       "      <td>0.266151</td>\n",
       "      <td>0.166480</td>\n",
       "      <td>0.448154</td>\n",
       "      <td>0.060018</td>\n",
       "      <td>-0.082361</td>\n",
       "      <td>-0.078803</td>\n",
       "      <td>0.085102</td>\n",
       "      <td>-0.255425</td>\n",
       "      <td>...</td>\n",
       "      <td>-0.225775</td>\n",
       "      <td>-0.638672</td>\n",
       "      <td>0.101288</td>\n",
       "      <td>-0.339846</td>\n",
       "      <td>0.167170</td>\n",
       "      <td>0.125895</td>\n",
       "      <td>-0.008983</td>\n",
       "      <td>0.014724</td>\n",
       "      <td>2.69</td>\n",
       "      <td>0</td>\n",
       "    </tr>\n",
       "    <tr>\n",
       "      <th>2</th>\n",
       "      <td>1.0</td>\n",
       "      <td>-1.358354</td>\n",
       "      <td>-1.340163</td>\n",
       "      <td>1.773209</td>\n",
       "      <td>0.379780</td>\n",
       "      <td>-0.503198</td>\n",
       "      <td>1.800499</td>\n",
       "      <td>0.791461</td>\n",
       "      <td>0.247676</td>\n",
       "      <td>-1.514654</td>\n",
       "      <td>...</td>\n",
       "      <td>0.247998</td>\n",
       "      <td>0.771679</td>\n",
       "      <td>0.909412</td>\n",
       "      <td>-0.689281</td>\n",
       "      <td>-0.327642</td>\n",
       "      <td>-0.139097</td>\n",
       "      <td>-0.055353</td>\n",
       "      <td>-0.059752</td>\n",
       "      <td>378.66</td>\n",
       "      <td>0</td>\n",
       "    </tr>\n",
       "    <tr>\n",
       "      <th>3</th>\n",
       "      <td>1.0</td>\n",
       "      <td>-0.966272</td>\n",
       "      <td>-0.185226</td>\n",
       "      <td>1.792993</td>\n",
       "      <td>-0.863291</td>\n",
       "      <td>-0.010309</td>\n",
       "      <td>1.247203</td>\n",
       "      <td>0.237609</td>\n",
       "      <td>0.377436</td>\n",
       "      <td>-1.387024</td>\n",
       "      <td>...</td>\n",
       "      <td>-0.108300</td>\n",
       "      <td>0.005274</td>\n",
       "      <td>-0.190321</td>\n",
       "      <td>-1.175575</td>\n",
       "      <td>0.647376</td>\n",
       "      <td>-0.221929</td>\n",
       "      <td>0.062723</td>\n",
       "      <td>0.061458</td>\n",
       "      <td>123.50</td>\n",
       "      <td>0</td>\n",
       "    </tr>\n",
       "    <tr>\n",
       "      <th>4</th>\n",
       "      <td>2.0</td>\n",
       "      <td>-1.158233</td>\n",
       "      <td>0.877737</td>\n",
       "      <td>1.548718</td>\n",
       "      <td>0.403034</td>\n",
       "      <td>-0.407193</td>\n",
       "      <td>0.095921</td>\n",
       "      <td>0.592941</td>\n",
       "      <td>-0.270533</td>\n",
       "      <td>0.817739</td>\n",
       "      <td>...</td>\n",
       "      <td>-0.009431</td>\n",
       "      <td>0.798278</td>\n",
       "      <td>-0.137458</td>\n",
       "      <td>0.141267</td>\n",
       "      <td>-0.206010</td>\n",
       "      <td>0.502292</td>\n",
       "      <td>0.219422</td>\n",
       "      <td>0.215153</td>\n",
       "      <td>69.99</td>\n",
       "      <td>0</td>\n",
       "    </tr>\n",
       "  </tbody>\n",
       "</table>\n",
       "<p>5 rows × 31 columns</p>\n",
       "</div>"
      ],
      "text/plain": [
       "   Time        V1        V2        V3        V4        V5        V6        V7  \\\n",
       "0   0.0 -1.359807 -0.072781  2.536347  1.378155 -0.338321  0.462388  0.239599   \n",
       "1   0.0  1.191857  0.266151  0.166480  0.448154  0.060018 -0.082361 -0.078803   \n",
       "2   1.0 -1.358354 -1.340163  1.773209  0.379780 -0.503198  1.800499  0.791461   \n",
       "3   1.0 -0.966272 -0.185226  1.792993 -0.863291 -0.010309  1.247203  0.237609   \n",
       "4   2.0 -1.158233  0.877737  1.548718  0.403034 -0.407193  0.095921  0.592941   \n",
       "\n",
       "         V8        V9  ...       V21       V22       V23       V24       V25  \\\n",
       "0  0.098698  0.363787  ... -0.018307  0.277838 -0.110474  0.066928  0.128539   \n",
       "1  0.085102 -0.255425  ... -0.225775 -0.638672  0.101288 -0.339846  0.167170   \n",
       "2  0.247676 -1.514654  ...  0.247998  0.771679  0.909412 -0.689281 -0.327642   \n",
       "3  0.377436 -1.387024  ... -0.108300  0.005274 -0.190321 -1.175575  0.647376   \n",
       "4 -0.270533  0.817739  ... -0.009431  0.798278 -0.137458  0.141267 -0.206010   \n",
       "\n",
       "        V26       V27       V28  Amount  Class  \n",
       "0 -0.189115  0.133558 -0.021053  149.62      0  \n",
       "1  0.125895 -0.008983  0.014724    2.69      0  \n",
       "2 -0.139097 -0.055353 -0.059752  378.66      0  \n",
       "3 -0.221929  0.062723  0.061458  123.50      0  \n",
       "4  0.502292  0.219422  0.215153   69.99      0  \n",
       "\n",
       "[5 rows x 31 columns]"
      ]
     },
     "execution_count": 100,
     "metadata": {},
     "output_type": "execute_result"
    }
   ],
   "source": [
    "# First lines of the data set\n",
    "\n",
    "df.head()"
   ]
  },
  {
   "cell_type": "code",
   "execution_count": 101,
   "metadata": {
    "colab": {
     "base_uri": "https://localhost:8080/",
     "height": 364
    },
    "id": "QB3Is2JkplsW",
    "outputId": "86b30a52-22a7-4775-e3be-4509dc96f3c7"
   },
   "outputs": [
    {
     "data": {
      "text/html": [
       "<div>\n",
       "<style scoped>\n",
       "    .dataframe tbody tr th:only-of-type {\n",
       "        vertical-align: middle;\n",
       "    }\n",
       "\n",
       "    .dataframe tbody tr th {\n",
       "        vertical-align: top;\n",
       "    }\n",
       "\n",
       "    .dataframe thead th {\n",
       "        text-align: right;\n",
       "    }\n",
       "</style>\n",
       "<table border=\"1\" class=\"dataframe\">\n",
       "  <thead>\n",
       "    <tr style=\"text-align: right;\">\n",
       "      <th></th>\n",
       "      <th>Time</th>\n",
       "      <th>V1</th>\n",
       "      <th>V2</th>\n",
       "      <th>V3</th>\n",
       "      <th>V4</th>\n",
       "      <th>V5</th>\n",
       "      <th>V6</th>\n",
       "      <th>V7</th>\n",
       "      <th>V8</th>\n",
       "      <th>V9</th>\n",
       "      <th>...</th>\n",
       "      <th>V21</th>\n",
       "      <th>V22</th>\n",
       "      <th>V23</th>\n",
       "      <th>V24</th>\n",
       "      <th>V25</th>\n",
       "      <th>V26</th>\n",
       "      <th>V27</th>\n",
       "      <th>V28</th>\n",
       "      <th>Amount</th>\n",
       "      <th>Class</th>\n",
       "    </tr>\n",
       "  </thead>\n",
       "  <tbody>\n",
       "    <tr>\n",
       "      <th>count</th>\n",
       "      <td>284807.000000</td>\n",
       "      <td>2.848070e+05</td>\n",
       "      <td>2.848070e+05</td>\n",
       "      <td>2.848070e+05</td>\n",
       "      <td>2.848070e+05</td>\n",
       "      <td>2.848070e+05</td>\n",
       "      <td>2.848070e+05</td>\n",
       "      <td>2.848070e+05</td>\n",
       "      <td>2.848070e+05</td>\n",
       "      <td>2.848070e+05</td>\n",
       "      <td>...</td>\n",
       "      <td>2.848070e+05</td>\n",
       "      <td>2.848070e+05</td>\n",
       "      <td>2.848070e+05</td>\n",
       "      <td>2.848070e+05</td>\n",
       "      <td>2.848070e+05</td>\n",
       "      <td>2.848070e+05</td>\n",
       "      <td>2.848070e+05</td>\n",
       "      <td>2.848070e+05</td>\n",
       "      <td>284807.000000</td>\n",
       "      <td>284807.000000</td>\n",
       "    </tr>\n",
       "    <tr>\n",
       "      <th>mean</th>\n",
       "      <td>94813.859575</td>\n",
       "      <td>1.168375e-15</td>\n",
       "      <td>3.416908e-16</td>\n",
       "      <td>-1.379537e-15</td>\n",
       "      <td>2.074095e-15</td>\n",
       "      <td>9.604066e-16</td>\n",
       "      <td>1.487313e-15</td>\n",
       "      <td>-5.556467e-16</td>\n",
       "      <td>1.213481e-16</td>\n",
       "      <td>-2.406331e-15</td>\n",
       "      <td>...</td>\n",
       "      <td>1.654067e-16</td>\n",
       "      <td>-3.568593e-16</td>\n",
       "      <td>2.578648e-16</td>\n",
       "      <td>4.473266e-15</td>\n",
       "      <td>5.340915e-16</td>\n",
       "      <td>1.683437e-15</td>\n",
       "      <td>-3.660091e-16</td>\n",
       "      <td>-1.227390e-16</td>\n",
       "      <td>88.349619</td>\n",
       "      <td>0.001727</td>\n",
       "    </tr>\n",
       "    <tr>\n",
       "      <th>std</th>\n",
       "      <td>47488.145955</td>\n",
       "      <td>1.958696e+00</td>\n",
       "      <td>1.651309e+00</td>\n",
       "      <td>1.516255e+00</td>\n",
       "      <td>1.415869e+00</td>\n",
       "      <td>1.380247e+00</td>\n",
       "      <td>1.332271e+00</td>\n",
       "      <td>1.237094e+00</td>\n",
       "      <td>1.194353e+00</td>\n",
       "      <td>1.098632e+00</td>\n",
       "      <td>...</td>\n",
       "      <td>7.345240e-01</td>\n",
       "      <td>7.257016e-01</td>\n",
       "      <td>6.244603e-01</td>\n",
       "      <td>6.056471e-01</td>\n",
       "      <td>5.212781e-01</td>\n",
       "      <td>4.822270e-01</td>\n",
       "      <td>4.036325e-01</td>\n",
       "      <td>3.300833e-01</td>\n",
       "      <td>250.120109</td>\n",
       "      <td>0.041527</td>\n",
       "    </tr>\n",
       "    <tr>\n",
       "      <th>min</th>\n",
       "      <td>0.000000</td>\n",
       "      <td>-5.640751e+01</td>\n",
       "      <td>-7.271573e+01</td>\n",
       "      <td>-4.832559e+01</td>\n",
       "      <td>-5.683171e+00</td>\n",
       "      <td>-1.137433e+02</td>\n",
       "      <td>-2.616051e+01</td>\n",
       "      <td>-4.355724e+01</td>\n",
       "      <td>-7.321672e+01</td>\n",
       "      <td>-1.343407e+01</td>\n",
       "      <td>...</td>\n",
       "      <td>-3.483038e+01</td>\n",
       "      <td>-1.093314e+01</td>\n",
       "      <td>-4.480774e+01</td>\n",
       "      <td>-2.836627e+00</td>\n",
       "      <td>-1.029540e+01</td>\n",
       "      <td>-2.604551e+00</td>\n",
       "      <td>-2.256568e+01</td>\n",
       "      <td>-1.543008e+01</td>\n",
       "      <td>0.000000</td>\n",
       "      <td>0.000000</td>\n",
       "    </tr>\n",
       "    <tr>\n",
       "      <th>25%</th>\n",
       "      <td>54201.500000</td>\n",
       "      <td>-9.203734e-01</td>\n",
       "      <td>-5.985499e-01</td>\n",
       "      <td>-8.903648e-01</td>\n",
       "      <td>-8.486401e-01</td>\n",
       "      <td>-6.915971e-01</td>\n",
       "      <td>-7.682956e-01</td>\n",
       "      <td>-5.540759e-01</td>\n",
       "      <td>-2.086297e-01</td>\n",
       "      <td>-6.430976e-01</td>\n",
       "      <td>...</td>\n",
       "      <td>-2.283949e-01</td>\n",
       "      <td>-5.423504e-01</td>\n",
       "      <td>-1.618463e-01</td>\n",
       "      <td>-3.545861e-01</td>\n",
       "      <td>-3.171451e-01</td>\n",
       "      <td>-3.269839e-01</td>\n",
       "      <td>-7.083953e-02</td>\n",
       "      <td>-5.295979e-02</td>\n",
       "      <td>5.600000</td>\n",
       "      <td>0.000000</td>\n",
       "    </tr>\n",
       "    <tr>\n",
       "      <th>50%</th>\n",
       "      <td>84692.000000</td>\n",
       "      <td>1.810880e-02</td>\n",
       "      <td>6.548556e-02</td>\n",
       "      <td>1.798463e-01</td>\n",
       "      <td>-1.984653e-02</td>\n",
       "      <td>-5.433583e-02</td>\n",
       "      <td>-2.741871e-01</td>\n",
       "      <td>4.010308e-02</td>\n",
       "      <td>2.235804e-02</td>\n",
       "      <td>-5.142873e-02</td>\n",
       "      <td>...</td>\n",
       "      <td>-2.945017e-02</td>\n",
       "      <td>6.781943e-03</td>\n",
       "      <td>-1.119293e-02</td>\n",
       "      <td>4.097606e-02</td>\n",
       "      <td>1.659350e-02</td>\n",
       "      <td>-5.213911e-02</td>\n",
       "      <td>1.342146e-03</td>\n",
       "      <td>1.124383e-02</td>\n",
       "      <td>22.000000</td>\n",
       "      <td>0.000000</td>\n",
       "    </tr>\n",
       "    <tr>\n",
       "      <th>75%</th>\n",
       "      <td>139320.500000</td>\n",
       "      <td>1.315642e+00</td>\n",
       "      <td>8.037239e-01</td>\n",
       "      <td>1.027196e+00</td>\n",
       "      <td>7.433413e-01</td>\n",
       "      <td>6.119264e-01</td>\n",
       "      <td>3.985649e-01</td>\n",
       "      <td>5.704361e-01</td>\n",
       "      <td>3.273459e-01</td>\n",
       "      <td>5.971390e-01</td>\n",
       "      <td>...</td>\n",
       "      <td>1.863772e-01</td>\n",
       "      <td>5.285536e-01</td>\n",
       "      <td>1.476421e-01</td>\n",
       "      <td>4.395266e-01</td>\n",
       "      <td>3.507156e-01</td>\n",
       "      <td>2.409522e-01</td>\n",
       "      <td>9.104512e-02</td>\n",
       "      <td>7.827995e-02</td>\n",
       "      <td>77.165000</td>\n",
       "      <td>0.000000</td>\n",
       "    </tr>\n",
       "    <tr>\n",
       "      <th>max</th>\n",
       "      <td>172792.000000</td>\n",
       "      <td>2.454930e+00</td>\n",
       "      <td>2.205773e+01</td>\n",
       "      <td>9.382558e+00</td>\n",
       "      <td>1.687534e+01</td>\n",
       "      <td>3.480167e+01</td>\n",
       "      <td>7.330163e+01</td>\n",
       "      <td>1.205895e+02</td>\n",
       "      <td>2.000721e+01</td>\n",
       "      <td>1.559499e+01</td>\n",
       "      <td>...</td>\n",
       "      <td>2.720284e+01</td>\n",
       "      <td>1.050309e+01</td>\n",
       "      <td>2.252841e+01</td>\n",
       "      <td>4.584549e+00</td>\n",
       "      <td>7.519589e+00</td>\n",
       "      <td>3.517346e+00</td>\n",
       "      <td>3.161220e+01</td>\n",
       "      <td>3.384781e+01</td>\n",
       "      <td>25691.160000</td>\n",
       "      <td>1.000000</td>\n",
       "    </tr>\n",
       "  </tbody>\n",
       "</table>\n",
       "<p>8 rows × 31 columns</p>\n",
       "</div>"
      ],
      "text/plain": [
       "                Time            V1            V2            V3            V4  \\\n",
       "count  284807.000000  2.848070e+05  2.848070e+05  2.848070e+05  2.848070e+05   \n",
       "mean    94813.859575  1.168375e-15  3.416908e-16 -1.379537e-15  2.074095e-15   \n",
       "std     47488.145955  1.958696e+00  1.651309e+00  1.516255e+00  1.415869e+00   \n",
       "min         0.000000 -5.640751e+01 -7.271573e+01 -4.832559e+01 -5.683171e+00   \n",
       "25%     54201.500000 -9.203734e-01 -5.985499e-01 -8.903648e-01 -8.486401e-01   \n",
       "50%     84692.000000  1.810880e-02  6.548556e-02  1.798463e-01 -1.984653e-02   \n",
       "75%    139320.500000  1.315642e+00  8.037239e-01  1.027196e+00  7.433413e-01   \n",
       "max    172792.000000  2.454930e+00  2.205773e+01  9.382558e+00  1.687534e+01   \n",
       "\n",
       "                 V5            V6            V7            V8            V9  \\\n",
       "count  2.848070e+05  2.848070e+05  2.848070e+05  2.848070e+05  2.848070e+05   \n",
       "mean   9.604066e-16  1.487313e-15 -5.556467e-16  1.213481e-16 -2.406331e-15   \n",
       "std    1.380247e+00  1.332271e+00  1.237094e+00  1.194353e+00  1.098632e+00   \n",
       "min   -1.137433e+02 -2.616051e+01 -4.355724e+01 -7.321672e+01 -1.343407e+01   \n",
       "25%   -6.915971e-01 -7.682956e-01 -5.540759e-01 -2.086297e-01 -6.430976e-01   \n",
       "50%   -5.433583e-02 -2.741871e-01  4.010308e-02  2.235804e-02 -5.142873e-02   \n",
       "75%    6.119264e-01  3.985649e-01  5.704361e-01  3.273459e-01  5.971390e-01   \n",
       "max    3.480167e+01  7.330163e+01  1.205895e+02  2.000721e+01  1.559499e+01   \n",
       "\n",
       "       ...           V21           V22           V23           V24  \\\n",
       "count  ...  2.848070e+05  2.848070e+05  2.848070e+05  2.848070e+05   \n",
       "mean   ...  1.654067e-16 -3.568593e-16  2.578648e-16  4.473266e-15   \n",
       "std    ...  7.345240e-01  7.257016e-01  6.244603e-01  6.056471e-01   \n",
       "min    ... -3.483038e+01 -1.093314e+01 -4.480774e+01 -2.836627e+00   \n",
       "25%    ... -2.283949e-01 -5.423504e-01 -1.618463e-01 -3.545861e-01   \n",
       "50%    ... -2.945017e-02  6.781943e-03 -1.119293e-02  4.097606e-02   \n",
       "75%    ...  1.863772e-01  5.285536e-01  1.476421e-01  4.395266e-01   \n",
       "max    ...  2.720284e+01  1.050309e+01  2.252841e+01  4.584549e+00   \n",
       "\n",
       "                V25           V26           V27           V28         Amount  \\\n",
       "count  2.848070e+05  2.848070e+05  2.848070e+05  2.848070e+05  284807.000000   \n",
       "mean   5.340915e-16  1.683437e-15 -3.660091e-16 -1.227390e-16      88.349619   \n",
       "std    5.212781e-01  4.822270e-01  4.036325e-01  3.300833e-01     250.120109   \n",
       "min   -1.029540e+01 -2.604551e+00 -2.256568e+01 -1.543008e+01       0.000000   \n",
       "25%   -3.171451e-01 -3.269839e-01 -7.083953e-02 -5.295979e-02       5.600000   \n",
       "50%    1.659350e-02 -5.213911e-02  1.342146e-03  1.124383e-02      22.000000   \n",
       "75%    3.507156e-01  2.409522e-01  9.104512e-02  7.827995e-02      77.165000   \n",
       "max    7.519589e+00  3.517346e+00  3.161220e+01  3.384781e+01   25691.160000   \n",
       "\n",
       "               Class  \n",
       "count  284807.000000  \n",
       "mean        0.001727  \n",
       "std         0.041527  \n",
       "min         0.000000  \n",
       "25%         0.000000  \n",
       "50%         0.000000  \n",
       "75%         0.000000  \n",
       "max         1.000000  \n",
       "\n",
       "[8 rows x 31 columns]"
      ]
     },
     "execution_count": 101,
     "metadata": {},
     "output_type": "execute_result"
    }
   ],
   "source": [
    "# Stats summary\n",
    "\n",
    "df.describe()"
   ]
  },
  {
   "cell_type": "code",
   "execution_count": 102,
   "metadata": {
    "colab": {
     "base_uri": "https://localhost:8080/"
    },
    "id": "WZ2PQmnTpzMA",
    "outputId": "9d6ae54d-d087-47f2-f29f-a51a3a157ceb"
   },
   "outputs": [
    {
     "data": {
      "text/plain": [
       "0"
      ]
     },
     "execution_count": 102,
     "metadata": {},
     "output_type": "execute_result"
    }
   ],
   "source": [
    "# Is there null values?\n",
    "\n",
    "df.isnull().sum().max()"
   ]
  },
  {
   "cell_type": "code",
   "execution_count": 103,
   "metadata": {
    "colab": {
     "base_uri": "https://localhost:8080/",
     "height": 441
    },
    "id": "AGWnMqN9qCmX",
    "outputId": "474d804c-38cf-4605-b3e0-0e87a240442f"
   },
   "outputs": [
    {
     "data": {
      "image/png": "[encoded data removed]",
      "text/plain": [
       "<Figure size 1200x600 with 2 Axes>"
      ]
     },
     "metadata": {},
     "output_type": "display_data"
    }
   ],
   "source": [
    "from IPython.core.pylabtools import figsize\n",
    "# Plotting Class according to Time\n",
    "\n",
    "fig, ax = plt.subplots(nrows=2, ncols=1, figsize=(12,6))\n",
    "\n",
    "num_bins=40\n",
    "\n",
    "ax[0].hist(df['Time'][df['Class']==0], bins=num_bins, color='b')\n",
    "ax[1].hist(df['Time'][df[\"Class\"]==1], bins=num_bins, color='r')\n",
    "\n",
    "ax[0].set_title('Regular')\n",
    "ax[1].set_title('Fraud')\n",
    "\n",
    "plt.xlabel('Time-s')\n",
    "plt.ylabel('Transaction')\n",
    "plt.tight_layout()"
   ]
  },
  {
   "cell_type": "code",
   "execution_count": 104,
   "metadata": {
    "colab": {
     "base_uri": "https://localhost:8080/",
     "height": 300
    },
    "id": "dZMxFwuSq1PS",
    "outputId": "68c40832-ee83-4cfd-c309-d1784592fb7d"
   },
   "outputs": [
    {
     "data": {
      "text/html": [
       "<div>\n",
       "<style scoped>\n",
       "    .dataframe tbody tr th:only-of-type {\n",
       "        vertical-align: middle;\n",
       "    }\n",
       "\n",
       "    .dataframe tbody tr th {\n",
       "        vertical-align: top;\n",
       "    }\n",
       "\n",
       "    .dataframe thead th {\n",
       "        text-align: right;\n",
       "    }\n",
       "</style>\n",
       "<table border=\"1\" class=\"dataframe\">\n",
       "  <thead>\n",
       "    <tr style=\"text-align: right;\">\n",
       "      <th></th>\n",
       "      <th>Amount</th>\n",
       "    </tr>\n",
       "  </thead>\n",
       "  <tbody>\n",
       "    <tr>\n",
       "      <th>count</th>\n",
       "      <td>491.000000</td>\n",
       "    </tr>\n",
       "    <tr>\n",
       "      <th>mean</th>\n",
       "      <td>118.130550</td>\n",
       "    </tr>\n",
       "    <tr>\n",
       "      <th>std</th>\n",
       "      <td>240.439028</td>\n",
       "    </tr>\n",
       "    <tr>\n",
       "      <th>min</th>\n",
       "      <td>0.000000</td>\n",
       "    </tr>\n",
       "    <tr>\n",
       "      <th>25%</th>\n",
       "      <td>1.000000</td>\n",
       "    </tr>\n",
       "    <tr>\n",
       "      <th>50%</th>\n",
       "      <td>9.210000</td>\n",
       "    </tr>\n",
       "    <tr>\n",
       "      <th>75%</th>\n",
       "      <td>105.350000</td>\n",
       "    </tr>\n",
       "    <tr>\n",
       "      <th>max</th>\n",
       "      <td>1809.680000</td>\n",
       "    </tr>\n",
       "  </tbody>\n",
       "</table>\n",
       "</div>"
      ],
      "text/plain": [
       "            Amount\n",
       "count   491.000000\n",
       "mean    118.130550\n",
       "std     240.439028\n",
       "min       0.000000\n",
       "25%       1.000000\n",
       "50%       9.210000\n",
       "75%     105.350000\n",
       "max    1809.680000"
      ]
     },
     "execution_count": 104,
     "metadata": {},
     "output_type": "execute_result"
    }
   ],
   "source": [
    "# Fraud stats\n",
    "\n",
    "df.loc[(df['Class']==1) & (df[\"Amount\"]<2000), [\"Amount\"]].describe()"
   ]
  },
  {
   "cell_type": "code",
   "execution_count": 105,
   "metadata": {
    "colab": {
     "base_uri": "https://localhost:8080/",
     "height": 1000
    },
    "id": "P-nWJ7bqrKN4",
    "outputId": "7b48212d-e320-4552-f860-6d0ec0497a8b"
   },
   "outputs": [],
   "source": [
    "# Density Plots\n",
    "\n",
    "# density_df = df.drop([\"Class\", 'Amount', 'Time'], axis=1)\n",
    "# num_plots = len(density_df)\n",
    "\n",
    "# df_class_0 = df[df['Class']==0]\n",
    "# df_class_1 = df[df['Class']==1]\n",
    "\n",
    "# fig, ax = plt.subplots(nrows=7, ncols=4, figsize=(18,18))\n",
    "# fig.subplots_adjust(hspace=1, wspace=1)\n",
    "# idx = 0\n",
    "\n",
    "# for col in density_df:\n",
    "#   idx += 1\n",
    "#   plt.subplot(7, 4, idx, facecolor='#8b9d87')\n",
    "#   sns.kdeplot(df_class_0[col], label=\"Class 0\", shade=True, color=\"r\")\n",
    "#   sns.kdeplot(df_class_1[col], label=\"Class 1\", shade=True, color='k')\n",
    "#   plt.title(col, fontsize=10)\n",
    "# plt.tight_layout()"
   ]
  },
  {
   "cell_type": "markdown",
   "metadata": {
    "id": "ULe7z0jZt0EH"
   },
   "source": [
    "## Data Preparation\n",
    "\n",
    "Standardization of a dataset is a common requirement for many machine learning estimators: they might behave badly if the individual features do not more or less look like standard normally distributed data (e.g. Gaussian with 0 mean and unit variance). In this dataset the variables \"Time\" and \"Amount\" were standardized, as seen below. For this step it was used the library Scikit-Learn."
   ]
  },
  {
   "cell_type": "code",
   "execution_count": 106,
   "metadata": {
    "id": "I6meYo4fJhVh"
   },
   "outputs": [],
   "source": [
    "# Having Time and Amount in the same scale\n",
    "\n",
    "df_clean = df.copy()\n",
    "\n",
    "std_scaler = StandardScaler()\n",
    "df_clean[\"std_amount\"]=std_scaler.fit_transform(df_clean['Amount'].values.reshape(-1,1))\n",
    "df_clean['std_time']=std_scaler.fit_transform(df_clean['Time'].values.reshape(-1,1))\n",
    "df_clean.drop(['Time','Amount'], axis=1, inplace=True)"
   ]
  },
  {
   "cell_type": "markdown",
   "metadata": {
    "id": "OMpfL_z4r3gA"
   },
   "source": [
    "The next step is to separate the data set in train and validation. Again Scikit-Learn was used."
   ]
  },
  {
   "cell_type": "code",
   "execution_count": 107,
   "metadata": {
    "id": "Pu9zkou7N6X2"
   },
   "outputs": [],
   "source": [
    "# Separate the data set in train and validation\n",
    "\n",
    "X = df_clean.drop(\"Class\", axis=1)\n",
    "y = df['Class']\n",
    "\n",
    "X_train, X_val, y_train, y_val = train_test_split(X, y, stratify=y, shuffle=True)\n"
   ]
  },
  {
   "cell_type": "markdown",
   "metadata": {
    "id": "d-4w8mQqr_iz"
   },
   "source": [
    "Previously it was seen that this data set is absolutely unbalanced. To solve this problem a method of under-sampling, which randomly extracts a sub class from the main class, was applied to the data set."
   ]
  },
  {
   "cell_type": "code",
   "execution_count": 108,
   "metadata": {
    "id": "SH-eYmMErdtd"
   },
   "outputs": [],
   "source": [
    "# Balancing the data. In this project it will be done by suing the library IMBLearn and UnderSampling\n",
    "\n",
    "rus = RandomUnderSampler()\n",
    "\n",
    "X_rus, y_rus = rus.fit_resample(X_train, y_train)"
   ]
  },
  {
   "cell_type": "code",
   "execution_count": 109,
   "metadata": {
    "colab": {
     "base_uri": "https://localhost:8080/"
    },
    "id": "Y75t8q4wwWDS",
    "outputId": "a545d139-19bc-4a57-c9c6-84ca7d01e803"
   },
   "outputs": [
    {
     "name": "stdout",
     "output_type": "stream",
     "text": [
      "0    369\n",
      "1    369\n",
      "Name: Class, dtype: int64\n"
     ]
    }
   ],
   "source": [
    "# Checking how balanced the data is\n",
    "\n",
    "print(pd.Series(y_rus).value_counts())"
   ]
  },
  {
   "cell_type": "code",
   "execution_count": 110,
   "metadata": {
    "colab": {
     "base_uri": "https://localhost:8080/",
     "height": 351
    },
    "id": "y-GDNFPY0y5J",
    "outputId": "29e38503-59b1-49ca-c441-a436985627ee"
   },
   "outputs": [
    {
     "data": {
      "text/plain": [
       "<AxesSubplot: ylabel='count'>"
      ]
     },
     "execution_count": 110,
     "metadata": {},
     "output_type": "execute_result"
    },
    {
     "data": {
      "image/png": "[encoded data removed]",
      "text/plain": [
       "<Figure size 640x480 with 1 Axes>"
      ]
     },
     "metadata": {},
     "output_type": "display_data"
    }
   ],
   "source": [
    "# Plotting the new distribution\n",
    "\n",
    "sns.countplot(y_rus)"
   ]
  },
  {
   "cell_type": "markdown",
   "metadata": {
    "id": "ybYz6S-RsFu6"
   },
   "source": [
    "Correlation Matrix can show unexpected relations in our data set. There is a huge difference between a correlation matrix of a balanced and unbalanced data set. That reinforces the necessity of balancing the data set."
   ]
  },
  {
   "cell_type": "code",
   "execution_count": 111,
   "metadata": {
    "colab": {
     "base_uri": "https://localhost:8080/",
     "height": 589
    },
    "id": "xgwGBqFK1JJx",
    "outputId": "3b1eba92-1fff-44c3-a0c9-3a7c21750018"
   },
   "outputs": [
    {
     "data": {
      "image/png": "[encoded data removed]",
      "text/plain": [
       "<Figure size 1800x800 with 4 Axes>"
      ]
     },
     "metadata": {},
     "output_type": "display_data"
    }
   ],
   "source": [
    "# Plotting a correlation matrix\n",
    "\n",
    "corr = X_train.corr()\n",
    "\n",
    "corr_rus = pd.DataFrame(X_rus).corr()\n",
    "\n",
    "fig, ax = plt.subplots(nrows=1, ncols=2, figsize=(18,8))\n",
    "fig.suptitle('Correlation Matrix')\n",
    "\n",
    "sns.heatmap(corr, xticklabels=corr.columns, yticklabels=corr.columns, linewidths=1, cmap='coolwarm', ax=ax[0])\n",
    "ax[0].set_title('Unbalanced')\n",
    "\n",
    "sns.heatmap(corr_rus, xticklabels=corr_rus.columns, yticklabels=corr_rus.columns, linewidths=1, cmap='coolwarm', ax=ax[1])\n",
    "ax[0].set_title('Balanced')\n",
    "\n",
    "plt.show()"
   ]
  },
  {
   "cell_type": "markdown",
   "metadata": {
    "id": "wJNH5qcjRxfX"
   },
   "source": [
    "## Learning Model\n",
    "\n",
    "Now the data is prepared to train a model. The objective of this project is to train a model to forecast credit card frauds. This way, for this the model chosen was Logistic Regression, which is applied to predict categorical variables (yes or no, tru or false, malign or benign, cat or dog, etc).\n",
    "\n",
    "The steps for training a model and predict, after choosing it, are:\n",
    "1. Instantiating the model\n",
    "2. Train the model\n",
    "3. Predict using the model"
   ]
  },
  {
   "cell_type": "code",
   "execution_count": 112,
   "metadata": {
    "id": "lDySx8XUSMw_"
   },
   "outputs": [],
   "source": [
    "# Instantiating the model \n",
    "\n",
    "np.random.seed(2)\n",
    "\n",
    "model=LogisticRegression()\n",
    "model.fit(X_rus, y_rus)\n",
    "\n",
    "# Predicting using Model \n",
    "\n",
    "y_pred = model.predict(X_val)\n",
    "y_proba = model.predict_proba(X_val)"
   ]
  },
  {
   "cell_type": "code",
   "execution_count": null,
   "metadata": {},
   "outputs": [],
   "source": []
  },
  {
   "cell_type": "code",
   "execution_count": 113,
   "metadata": {
    "id": "q0eiACgIBv0b"
   },
   "outputs": [],
   "source": [
    "# Predicting using Model \n",
    "\n",
    "y_pred = model.predict(X_val)\n",
    "y_proba = model.predict_proba(X_val)"
   ]
  },
  {
   "cell_type": "markdown",
   "metadata": {
    "id": "3e4ENOTYSUXi"
   },
   "source": [
    "## Assessing the machine model performance.\n",
    "\n",
    "Great! We have now a machine learning model that can tell us, based on some bank information, whether a transaction is more likely or not to be a fraud. But, is the model predicting well? Let's answer it through a confusion matrix, classification report, accuracy and area-under-curve score."
   ]
  },
  {
   "cell_type": "code",
   "execution_count": 114,
   "metadata": {
    "colab": {
     "base_uri": "https://localhost:8080/",
     "height": 503
    },
    "id": "H1jEi7gkSe2r",
    "outputId": "58011da0-2f7b-4fb0-a23f-8ecb5039538a"
   },
   "outputs": [
    {
     "name": "stdout",
     "output_type": "stream",
     "text": [
      "classification report: \n",
      "               precision    recall  f1-score   support\n",
      "\n",
      "           0     0.9999    0.9684    0.9839     71079\n",
      "           1     0.0486    0.9350    0.0925       123\n",
      "\n",
      "    accuracy                         0.9683     71202\n",
      "   macro avg     0.5243    0.9517    0.5382     71202\n",
      "weighted avg     0.9982    0.9683    0.9823     71202\n",
      "\n",
      "Accuracy: 0.9683014522063987\n",
      "AUC:0.9516592496360112\n"
     ]
    },
    {
     "data": {
      "image/png": "[encoded data removed]",
      "text/plain": [
       "<Figure size 640x480 with 2 Axes>"
      ]
     },
     "metadata": {},
     "output_type": "display_data"
    }
   ],
   "source": [
    "# Plotting Logistic Regression model\n",
    "\n",
    "# Plotting the confusion matrix\n",
    "\n",
    "skplt.metrics.plot_confusion_matrix(y_val, y_pred, normalize=True)\n",
    "\n",
    "# Print classification report\n",
    "\n",
    "print(\"classification report: \\n\", classification_report(y_val, y_pred, digits=4))\n",
    "\n",
    "# Print model accuracy\n",
    "\n",
    "print(\"Accuracy: {}\".format(accuracy_score(y_val, y_pred)))\n",
    "\n",
    "# Print area under curve\n",
    "\n",
    "print('AUC:{}'.format(roc_auc_score(y_val, y_pred)))"
   ]
  },
  {
   "cell_type": "markdown",
   "metadata": {
    "id": "PTFBbdDrtYH3"
   },
   "source": [
    "Results show that trained model performs well. The model presented high accuracy and area-under-curve numbers. The next step is to use this model in a test data set. In the very beginning of this article it was shown that we created this data set (called test). The same trained model was used to predict the 'test' data set."
   ]
  },
  {
   "cell_type": "markdown",
   "metadata": {
    "id": "P244zDAP3gbg"
   },
   "source": [
    "# Predicting with test data"
   ]
  },
  {
   "cell_type": "code",
   "execution_count": 115,
   "metadata": {
    "colab": {
     "base_uri": "https://localhost:8080/",
     "height": 270
    },
    "id": "h1w4Vddj3drq",
    "outputId": "5744b7a4-c0a9-466c-b9e1-4d601d46276d"
   },
   "outputs": [
    {
     "data": {
      "text/html": [
       "<div>\n",
       "<style scoped>\n",
       "    .dataframe tbody tr th:only-of-type {\n",
       "        vertical-align: middle;\n",
       "    }\n",
       "\n",
       "    .dataframe tbody tr th {\n",
       "        vertical-align: top;\n",
       "    }\n",
       "\n",
       "    .dataframe thead th {\n",
       "        text-align: right;\n",
       "    }\n",
       "</style>\n",
       "<table border=\"1\" class=\"dataframe\">\n",
       "  <thead>\n",
       "    <tr style=\"text-align: right;\">\n",
       "      <th></th>\n",
       "      <th>V1</th>\n",
       "      <th>V2</th>\n",
       "      <th>V3</th>\n",
       "      <th>V4</th>\n",
       "      <th>V5</th>\n",
       "      <th>V6</th>\n",
       "      <th>V7</th>\n",
       "      <th>V8</th>\n",
       "      <th>V9</th>\n",
       "      <th>V10</th>\n",
       "      <th>...</th>\n",
       "      <th>V22</th>\n",
       "      <th>V23</th>\n",
       "      <th>V24</th>\n",
       "      <th>V25</th>\n",
       "      <th>V26</th>\n",
       "      <th>V27</th>\n",
       "      <th>V28</th>\n",
       "      <th>Class</th>\n",
       "      <th>std_amount</th>\n",
       "      <th>std_time</th>\n",
       "    </tr>\n",
       "  </thead>\n",
       "  <tbody>\n",
       "    <tr>\n",
       "      <th>183484</th>\n",
       "      <td>-0.323334</td>\n",
       "      <td>1.057455</td>\n",
       "      <td>-0.048341</td>\n",
       "      <td>-0.607204</td>\n",
       "      <td>1.259821</td>\n",
       "      <td>-0.091761</td>\n",
       "      <td>1.159101</td>\n",
       "      <td>-0.124335</td>\n",
       "      <td>-0.174640</td>\n",
       "      <td>-1.644401</td>\n",
       "      <td>...</td>\n",
       "      <td>-0.433890</td>\n",
       "      <td>-0.261613</td>\n",
       "      <td>-0.046651</td>\n",
       "      <td>0.211512</td>\n",
       "      <td>0.008297</td>\n",
       "      <td>0.108494</td>\n",
       "      <td>0.161139</td>\n",
       "      <td>0</td>\n",
       "      <td>-0.177738</td>\n",
       "      <td>0.658372</td>\n",
       "    </tr>\n",
       "    <tr>\n",
       "      <th>255448</th>\n",
       "      <td>-0.349718</td>\n",
       "      <td>0.932619</td>\n",
       "      <td>0.142992</td>\n",
       "      <td>-0.657071</td>\n",
       "      <td>1.169784</td>\n",
       "      <td>-0.733369</td>\n",
       "      <td>1.009985</td>\n",
       "      <td>-0.071069</td>\n",
       "      <td>-0.302083</td>\n",
       "      <td>-1.192404</td>\n",
       "      <td>...</td>\n",
       "      <td>-0.833209</td>\n",
       "      <td>-0.030360</td>\n",
       "      <td>0.490035</td>\n",
       "      <td>-0.404816</td>\n",
       "      <td>0.134350</td>\n",
       "      <td>0.076830</td>\n",
       "      <td>0.175562</td>\n",
       "      <td>0</td>\n",
       "      <td>-0.321945</td>\n",
       "      <td>1.320094</td>\n",
       "    </tr>\n",
       "    <tr>\n",
       "      <th>244749</th>\n",
       "      <td>-1.614711</td>\n",
       "      <td>-2.406570</td>\n",
       "      <td>0.326194</td>\n",
       "      <td>0.665520</td>\n",
       "      <td>2.369268</td>\n",
       "      <td>-1.775367</td>\n",
       "      <td>-1.139049</td>\n",
       "      <td>0.329904</td>\n",
       "      <td>0.903813</td>\n",
       "      <td>-0.219013</td>\n",
       "      <td>...</td>\n",
       "      <td>1.134489</td>\n",
       "      <td>0.965054</td>\n",
       "      <td>0.640981</td>\n",
       "      <td>-1.801998</td>\n",
       "      <td>-1.041114</td>\n",
       "      <td>0.286285</td>\n",
       "      <td>0.437322</td>\n",
       "      <td>0</td>\n",
       "      <td>0.034666</td>\n",
       "      <td>1.219742</td>\n",
       "    </tr>\n",
       "    <tr>\n",
       "      <th>63919</th>\n",
       "      <td>-2.477184</td>\n",
       "      <td>0.860613</td>\n",
       "      <td>1.441850</td>\n",
       "      <td>1.051019</td>\n",
       "      <td>-1.856621</td>\n",
       "      <td>2.078384</td>\n",
       "      <td>0.510828</td>\n",
       "      <td>-0.243399</td>\n",
       "      <td>-0.260691</td>\n",
       "      <td>0.133040</td>\n",
       "      <td>...</td>\n",
       "      <td>0.692245</td>\n",
       "      <td>0.150121</td>\n",
       "      <td>-0.260777</td>\n",
       "      <td>0.005183</td>\n",
       "      <td>-0.177847</td>\n",
       "      <td>-0.510060</td>\n",
       "      <td>-0.660533</td>\n",
       "      <td>0</td>\n",
       "      <td>0.838765</td>\n",
       "      <td>-0.919236</td>\n",
       "    </tr>\n",
       "    <tr>\n",
       "      <th>11475</th>\n",
       "      <td>1.338831</td>\n",
       "      <td>-0.547264</td>\n",
       "      <td>0.737389</td>\n",
       "      <td>-0.212383</td>\n",
       "      <td>-1.110039</td>\n",
       "      <td>-0.525744</td>\n",
       "      <td>-0.801403</td>\n",
       "      <td>-0.063672</td>\n",
       "      <td>0.997276</td>\n",
       "      <td>0.113386</td>\n",
       "      <td>...</td>\n",
       "      <td>-0.074719</td>\n",
       "      <td>0.067055</td>\n",
       "      <td>0.333122</td>\n",
       "      <td>0.379087</td>\n",
       "      <td>-0.268706</td>\n",
       "      <td>-0.002769</td>\n",
       "      <td>0.003272</td>\n",
       "      <td>0</td>\n",
       "      <td>-0.310490</td>\n",
       "      <td>-1.572827</td>\n",
       "    </tr>\n",
       "    <tr>\n",
       "      <th>...</th>\n",
       "      <td>...</td>\n",
       "      <td>...</td>\n",
       "      <td>...</td>\n",
       "      <td>...</td>\n",
       "      <td>...</td>\n",
       "      <td>...</td>\n",
       "      <td>...</td>\n",
       "      <td>...</td>\n",
       "      <td>...</td>\n",
       "      <td>...</td>\n",
       "      <td>...</td>\n",
       "      <td>...</td>\n",
       "      <td>...</td>\n",
       "      <td>...</td>\n",
       "      <td>...</td>\n",
       "      <td>...</td>\n",
       "      <td>...</td>\n",
       "      <td>...</td>\n",
       "      <td>...</td>\n",
       "      <td>...</td>\n",
       "      <td>...</td>\n",
       "    </tr>\n",
       "    <tr>\n",
       "      <th>229333</th>\n",
       "      <td>-0.330429</td>\n",
       "      <td>0.587057</td>\n",
       "      <td>0.635175</td>\n",
       "      <td>-0.619929</td>\n",
       "      <td>0.690199</td>\n",
       "      <td>-1.146289</td>\n",
       "      <td>0.914373</td>\n",
       "      <td>-0.158436</td>\n",
       "      <td>-0.160107</td>\n",
       "      <td>-0.681300</td>\n",
       "      <td>...</td>\n",
       "      <td>-0.540837</td>\n",
       "      <td>0.047329</td>\n",
       "      <td>-0.037745</td>\n",
       "      <td>-0.671478</td>\n",
       "      <td>0.119750</td>\n",
       "      <td>0.094611</td>\n",
       "      <td>0.173363</td>\n",
       "      <td>0</td>\n",
       "      <td>-0.324562</td>\n",
       "      <td>1.081011</td>\n",
       "    </tr>\n",
       "    <tr>\n",
       "      <th>189242</th>\n",
       "      <td>-17.015895</td>\n",
       "      <td>-18.501723</td>\n",
       "      <td>-2.965763</td>\n",
       "      <td>5.989228</td>\n",
       "      <td>7.811563</td>\n",
       "      <td>-4.440128</td>\n",
       "      <td>-1.905238</td>\n",
       "      <td>-1.938201</td>\n",
       "      <td>3.276087</td>\n",
       "      <td>3.752052</td>\n",
       "      <td>...</td>\n",
       "      <td>3.688960</td>\n",
       "      <td>11.360879</td>\n",
       "      <td>0.771200</td>\n",
       "      <td>2.274458</td>\n",
       "      <td>1.954516</td>\n",
       "      <td>6.507171</td>\n",
       "      <td>-4.075417</td>\n",
       "      <td>0</td>\n",
       "      <td>-0.305294</td>\n",
       "      <td>0.710949</td>\n",
       "    </tr>\n",
       "    <tr>\n",
       "      <th>232656</th>\n",
       "      <td>0.044490</td>\n",
       "      <td>0.898231</td>\n",
       "      <td>0.306854</td>\n",
       "      <td>-0.587229</td>\n",
       "      <td>0.441139</td>\n",
       "      <td>-1.121860</td>\n",
       "      <td>1.039291</td>\n",
       "      <td>-0.231897</td>\n",
       "      <td>-0.108498</td>\n",
       "      <td>-0.422824</td>\n",
       "      <td>...</td>\n",
       "      <td>-0.535225</td>\n",
       "      <td>0.064659</td>\n",
       "      <td>0.050984</td>\n",
       "      <td>-0.476387</td>\n",
       "      <td>0.136342</td>\n",
       "      <td>0.250095</td>\n",
       "      <td>0.098383</td>\n",
       "      <td>0</td>\n",
       "      <td>-0.319252</td>\n",
       "      <td>1.109828</td>\n",
       "    </tr>\n",
       "    <tr>\n",
       "      <th>174418</th>\n",
       "      <td>1.945191</td>\n",
       "      <td>-0.273317</td>\n",
       "      <td>-0.126410</td>\n",
       "      <td>0.436141</td>\n",
       "      <td>-0.841361</td>\n",
       "      <td>-1.026928</td>\n",
       "      <td>-0.323962</td>\n",
       "      <td>-0.216008</td>\n",
       "      <td>0.809408</td>\n",
       "      <td>-0.043048</td>\n",
       "      <td>...</td>\n",
       "      <td>-0.481833</td>\n",
       "      <td>0.466048</td>\n",
       "      <td>0.482353</td>\n",
       "      <td>-0.668233</td>\n",
       "      <td>0.198535</td>\n",
       "      <td>-0.033724</td>\n",
       "      <td>-0.033819</td>\n",
       "      <td>0</td>\n",
       "      <td>-0.238462</td>\n",
       "      <td>0.575883</td>\n",
       "    </tr>\n",
       "    <tr>\n",
       "      <th>98354</th>\n",
       "      <td>-0.982043</td>\n",
       "      <td>0.329463</td>\n",
       "      <td>0.218720</td>\n",
       "      <td>0.267392</td>\n",
       "      <td>2.761915</td>\n",
       "      <td>3.806040</td>\n",
       "      <td>0.112364</td>\n",
       "      <td>0.903531</td>\n",
       "      <td>-0.595460</td>\n",
       "      <td>-0.195537</td>\n",
       "      <td>...</td>\n",
       "      <td>-0.278676</td>\n",
       "      <td>0.049632</td>\n",
       "      <td>1.011464</td>\n",
       "      <td>0.780561</td>\n",
       "      <td>-0.139311</td>\n",
       "      <td>0.031628</td>\n",
       "      <td>0.011244</td>\n",
       "      <td>0</td>\n",
       "      <td>-0.242521</td>\n",
       "      <td>-0.588523</td>\n",
       "    </tr>\n",
       "  </tbody>\n",
       "</table>\n",
       "<p>42721 rows × 31 columns</p>\n",
       "</div>"
      ],
      "text/plain": [
       "               V1         V2        V3        V4        V5        V6  \\\n",
       "183484  -0.323334   1.057455 -0.048341 -0.607204  1.259821 -0.091761   \n",
       "255448  -0.349718   0.932619  0.142992 -0.657071  1.169784 -0.733369   \n",
       "244749  -1.614711  -2.406570  0.326194  0.665520  2.369268 -1.775367   \n",
       "63919   -2.477184   0.860613  1.441850  1.051019 -1.856621  2.078384   \n",
       "11475    1.338831  -0.547264  0.737389 -0.212383 -1.110039 -0.525744   \n",
       "...           ...        ...       ...       ...       ...       ...   \n",
       "229333  -0.330429   0.587057  0.635175 -0.619929  0.690199 -1.146289   \n",
       "189242 -17.015895 -18.501723 -2.965763  5.989228  7.811563 -4.440128   \n",
       "232656   0.044490   0.898231  0.306854 -0.587229  0.441139 -1.121860   \n",
       "174418   1.945191  -0.273317 -0.126410  0.436141 -0.841361 -1.026928   \n",
       "98354   -0.982043   0.329463  0.218720  0.267392  2.761915  3.806040   \n",
       "\n",
       "              V7        V8        V9       V10  ...       V22        V23  \\\n",
       "183484  1.159101 -0.124335 -0.174640 -1.644401  ... -0.433890  -0.261613   \n",
       "255448  1.009985 -0.071069 -0.302083 -1.192404  ... -0.833209  -0.030360   \n",
       "244749 -1.139049  0.329904  0.903813 -0.219013  ...  1.134489   0.965054   \n",
       "63919   0.510828 -0.243399 -0.260691  0.133040  ...  0.692245   0.150121   \n",
       "11475  -0.801403 -0.063672  0.997276  0.113386  ... -0.074719   0.067055   \n",
       "...          ...       ...       ...       ...  ...       ...        ...   \n",
       "229333  0.914373 -0.158436 -0.160107 -0.681300  ... -0.540837   0.047329   \n",
       "189242 -1.905238 -1.938201  3.276087  3.752052  ...  3.688960  11.360879   \n",
       "232656  1.039291 -0.231897 -0.108498 -0.422824  ... -0.535225   0.064659   \n",
       "174418 -0.323962 -0.216008  0.809408 -0.043048  ... -0.481833   0.466048   \n",
       "98354   0.112364  0.903531 -0.595460 -0.195537  ... -0.278676   0.049632   \n",
       "\n",
       "             V24       V25       V26       V27       V28  Class  std_amount  \\\n",
       "183484 -0.046651  0.211512  0.008297  0.108494  0.161139      0   -0.177738   \n",
       "255448  0.490035 -0.404816  0.134350  0.076830  0.175562      0   -0.321945   \n",
       "244749  0.640981 -1.801998 -1.041114  0.286285  0.437322      0    0.034666   \n",
       "63919  -0.260777  0.005183 -0.177847 -0.510060 -0.660533      0    0.838765   \n",
       "11475   0.333122  0.379087 -0.268706 -0.002769  0.003272      0   -0.310490   \n",
       "...          ...       ...       ...       ...       ...    ...         ...   \n",
       "229333 -0.037745 -0.671478  0.119750  0.094611  0.173363      0   -0.324562   \n",
       "189242  0.771200  2.274458  1.954516  6.507171 -4.075417      0   -0.305294   \n",
       "232656  0.050984 -0.476387  0.136342  0.250095  0.098383      0   -0.319252   \n",
       "174418  0.482353 -0.668233  0.198535 -0.033724 -0.033819      0   -0.238462   \n",
       "98354   1.011464  0.780561 -0.139311  0.031628  0.011244      0   -0.242521   \n",
       "\n",
       "        std_time  \n",
       "183484  0.658372  \n",
       "255448  1.320094  \n",
       "244749  1.219742  \n",
       "63919  -0.919236  \n",
       "11475  -1.572827  \n",
       "...          ...  \n",
       "229333  1.081011  \n",
       "189242  0.710949  \n",
       "232656  1.109828  \n",
       "174418  0.575883  \n",
       "98354  -0.588523  \n",
       "\n",
       "[42721 rows x 31 columns]"
      ]
     },
     "execution_count": 115,
     "metadata": {},
     "output_type": "execute_result"
    }
   ],
   "source": [
    "# Standardize the columns Amount and Time in the test dataset\n",
    "\n",
    "test_clean = test.copy()\n",
    "\n",
    "test_clean['std_amount'] = std_scaler.fit_transform(test_clean['Amount'].values.reshape(-1,1))\n",
    "test_clean['std_time'] = std_scaler.fit_transform(test_clean['Time'].values.reshape(-1,1))\n",
    "\n",
    "test_clean.drop(['Time','Amount'], axis=1, inplace=True)\n",
    "\n",
    "test_clean"
   ]
  },
  {
   "cell_type": "code",
   "execution_count": 116,
   "metadata": {
    "id": "mMa5AFJQEvHo"
   },
   "outputs": [],
   "source": [
    "# Separar variáveis entre X e y\n",
    "\n",
    "X_test = test_clean.drop('Class', axis=1)\n",
    "y_test = test['Class']"
   ]
  },
  {
   "cell_type": "code",
   "execution_count": 117,
   "metadata": {
    "id": "uRaizc6V71Pi"
   },
   "outputs": [],
   "source": [
    "# Prediction using both models\n",
    "\n",
    "# Logistic Regression\n",
    "\n",
    "y_pred_t1 = model.predict(X_test)\n",
    "y_proba_t1 = model.predict_proba(X_test)"
   ]
  },
  {
   "cell_type": "code",
   "execution_count": 118,
   "metadata": {
    "colab": {
     "base_uri": "https://localhost:8080/",
     "height": 503
    },
    "id": "4HLucOq7-bNv",
    "outputId": "2b76c2c7-8771-4d03-f980-bc24334d1f85"
   },
   "outputs": [
    {
     "name": "stdout",
     "output_type": "stream",
     "text": [
      "classification report: \n",
      "               precision    recall  f1-score   support\n",
      "\n",
      "           0     0.9999    0.9691    0.9843     42647\n",
      "           1     0.0505    0.9459    0.0958        74\n",
      "\n",
      "    accuracy                         0.9691     42721\n",
      "   macro avg     0.5252    0.9575    0.5400     42721\n",
      "weighted avg     0.9983    0.9691    0.9827     42721\n",
      "\n",
      "Accuracy: 0.9690784391751129\n",
      "AUC:0.9575322620202682\n"
     ]
    },
    {
     "data": {
      "image/png": "[encoded data removed]",
      "text/plain": [
       "<Figure size 640x480 with 2 Axes>"
      ]
     },
     "metadata": {},
     "output_type": "display_data"
    }
   ],
   "source": [
    "# Plotting Logistic Regression model - Test dataset\n",
    "\n",
    "# Plotting the confusion matrix\n",
    "\n",
    "skplt.metrics.plot_confusion_matrix(y_test, y_pred_t1, normalize=True)\n",
    "\n",
    "# Print classification report\n",
    "\n",
    "print(\"classification report: \\n\", classification_report(y_test, y_pred_t1, digits=4))\n",
    "\n",
    "# Print model accuracy\n",
    "\n",
    "print(\"Accuracy: {}\".format(accuracy_score(y_test, y_pred_t1)))\n",
    "\n",
    "# Print area under curve\n",
    "\n",
    "print('AUC:{}'.format(roc_auc_score(y_test, y_pred_t1)))"
   ]
  },
  {
   "cell_type": "code",
   "execution_count": null,
   "metadata": {},
   "outputs": [],
   "source": []
  },
  {
   "cell_type": "code",
   "execution_count": 120,
   "metadata": {},
   "outputs": [],
   "source": [
    "import pickle\n",
    "pickle.dump(model, open('credittransfraud.sav','wb'))"
   ]
  },
  {
   "cell_type": "code",
   "execution_count": 121,
   "metadata": {},
   "outputs": [],
   "source": [
    "def prediction_fun(v1,v2,v3,v4,v5,v6,v7,v8,v9,v10,v11,v12,v13,v14,v15,v16,v17,v18,v19,v20,v21,v22,v23,v24,v25,v26,v27,v28,std_amount,std_time):\n",
    "    import pickle\n",
    "    x = [[v1,v2,v3,v4,v5,v6,v7,v8,v9,v10,v11,v12,v13,v14,v15,v16,v17,v18,v19,v20,v21,v22,v23,v24,v25,v26,v27,v28,std_amount,std_time]]\n",
    "    obj = pickle.load(open('credittransfraud.sav','rb'))\n",
    "    prediction = obj.predict(x).item()\n",
    "    print(prediction)\n",
    "    if prediction == 0:\n",
    "        prediction = \"Not Fraud\"\n",
    "    else:\n",
    "        prediction = \"Fraud\"\n",
    "    return prediction"
   ]
  },
  {
   "cell_type": "code",
   "execution_count": 122,
   "metadata": {},
   "outputs": [
    {
     "name": "stdout",
     "output_type": "stream",
     "text": [
      "0\n"
     ]
    },
    {
     "name": "stderr",
     "output_type": "stream",
     "text": [
      "C:\\Users\\Ajay\\AppData\\Local\\Programs\\Python\\Python38\\lib\\site-packages\\sklearn\\base.py:420: UserWarning: X does not have valid feature names, but LogisticRegression was fitted with feature names\n",
      "  warnings.warn(\n"
     ]
    },
    {
     "data": {
      "text/plain": [
       "'Not Fraud'"
      ]
     },
     "execution_count": 122,
     "metadata": {},
     "output_type": "execute_result"
    }
   ],
   "source": [
    "prediction_fun(-1.359807134,-0.072781173,2.536346738,0.378155224,-0.33832077,1.462387778,0.239598554,0.098697901,0.36378697,\n",
    "               0.090794172,-0.551599533,-0.617800856,-0.991389847,-0.311169354,1.468176972,-0.470400525,0.207971242,0.02579058,\n",
    "               0.40399296,0.251412098,-0.018306778,0.277837576,-0.11047391,0.066928075,0.128539358,-0.189114844,0.133558377,\n",
    "               -0.021053053,149.62,147852)"
   ]
  },
  {
   "cell_type": "code",
   "execution_count": 123,
   "metadata": {},
   "outputs": [],
   "source": [
    "# X_rus.iloc[733:734].values.tolist()"
   ]
  },
  {
   "cell_type": "code",
   "execution_count": 124,
   "metadata": {},
   "outputs": [
    {
     "name": "stdout",
     "output_type": "stream",
     "text": [
      "1\n"
     ]
    },
    {
     "name": "stderr",
     "output_type": "stream",
     "text": [
      "C:\\Users\\Ajay\\AppData\\Local\\Programs\\Python\\Python38\\lib\\site-packages\\sklearn\\base.py:420: UserWarning: X does not have valid feature names, but LogisticRegression was fitted with feature names\n",
      "  warnings.warn(\n"
     ]
    },
    {
     "data": {
      "text/plain": [
       "'Fraud'"
      ]
     },
     "execution_count": 124,
     "metadata": {},
     "output_type": "execute_result"
    }
   ],
   "source": [
    "prediction_fun(-24.5902447690465,14.0445667815106,-26.2787005866145,6.32008926518927,-18.2245126736673,-4.60996782569686,\n",
    "               -17.6810033715155,16.2136267471409,-3.79409346877414,-8.37275316035861,4.90168265513877,-6.87283866404082,\n",
    "               0.769776762734501,-6.82658448658054,-0.0544341798176028,-6.08495266503583,-12.375270529796,-4.81034474126699,\n",
    "               0.936742237936608,1.64920202229571,1.77706277243531,-1.80487368611576,-1.14060456917063,0.152234466415679,\n",
    "               1.71599702403257,-0.22047119903665,1.43495058143483,0.422491857762666,0.046539245565032604,-1.42408125101593)"
   ]
  },
  {
   "cell_type": "code",
   "execution_count": 125,
   "metadata": {},
   "outputs": [
    {
     "name": "stdout",
     "output_type": "stream",
     "text": [
      "1\n"
     ]
    },
    {
     "name": "stderr",
     "output_type": "stream",
     "text": [
      "C:\\Users\\Ajay\\AppData\\Local\\Programs\\Python\\Python38\\lib\\site-packages\\sklearn\\base.py:420: UserWarning: X does not have valid feature names, but LogisticRegression was fitted with feature names\n",
      "  warnings.warn(\n"
     ]
    },
    {
     "data": {
      "text/plain": [
       "'Fraud'"
      ]
     },
     "execution_count": 125,
     "metadata": {},
     "output_type": "execute_result"
    }
   ],
   "source": [
    "prediction_fun(-24.5902447690465,14.0445667815106,-26.2787005866145,6.32008926518927,-18.2245126736673,-4.60996782569686,\n",
    "               -17.6810033715155,16.2136267471409,-3.79409346877414,-8.37275316035861,4.90168265513877,-6.87283866404082,\n",
    "               0.769776762734501,-6.82658448658054,-0.0544341798176028,-6.08495266503583,-12.375270529796,-4.81034474126699,\n",
    "               0.936742237936608,1.64920202229571,1.77706277243531,-1.80487368611576,-1.14060456917063,0.152234466415679,\n",
    "               1.71599702403257,-0.22047119903665,1.43495058143483,0.422491857762666,147852,147.36)"
   ]
  },
  {
   "cell_type": "code",
   "execution_count": 153,
   "metadata": {},
   "outputs": [],
   "source": [
    "def prediction_funtion():\n",
    "    import pickle\n",
    "    x = []\n",
    "    df_test = pd.read_csv('test.csv')\n",
    "    rowlist = df_test.values.tolist()[0][:-2]\n",
    "    x.extend(rowlist)\n",
    "    time = int(input(\"Enter time:\"))\n",
    "    x.append(time)\n",
    "    Amnt = round(float(input(\"Enter Amount:\")))\n",
    "    x.append(Amnt)\n",
    "    v = []\n",
    "    v.append(x)\n",
    "    obj = pickle.load(open('credittransfraud.sav','rb'))\n",
    "    \n",
    "    prediction = obj.predict(v).item()\n",
    "    if prediction == 0:\n",
    "        prediction = \"Not Fraud\"\n",
    "    else:\n",
    "        prediction = \"Fraud\"\n",
    "    return prediction"
   ]
  },
  {
   "cell_type": "code",
   "execution_count": 154,
   "metadata": {},
   "outputs": [
    {
     "name": "stdout",
     "output_type": "stream",
     "text": [
      "Enter time:147852\n",
      "Enter Amount:123.36\n"
     ]
    },
    {
     "name": "stderr",
     "output_type": "stream",
     "text": [
      "C:\\Users\\Ajay\\AppData\\Local\\Programs\\Python\\Python38\\lib\\site-packages\\sklearn\\base.py:420: UserWarning: X does not have valid feature names, but LogisticRegression was fitted with feature names\n",
      "  warnings.warn(\n"
     ]
    },
    {
     "data": {
      "text/plain": [
       "'Fraud'"
      ]
     },
     "execution_count": 154,
     "metadata": {},
     "output_type": "execute_result"
    }
   ],
   "source": [
    "prediction_funtion()"
   ]
  },
  {
   "cell_type": "markdown",
   "metadata": {
    "id": "0Bj7zRZMSfO7"
   },
   "source": [
    "## Conclusion\n",
    "\n",
    "That could be considered a easy data science project however, as could be seen, it was not trivial to obtain the results. The trained model worked quite well on the test data set but there is certainly room for improvement. Testing other models or tuning the parameters are some things that could result in better predictions."
   ]
  }
 ],
 "metadata": {
  "colab": {
   "include_colab_link": true,
   "name": "[Template] Detecção de Fraude em Cartões de Crédito.ipynb",
   "provenance": []
  },
  "kernelspec": {
   "display_name": "Python 3 (ipykernel)",
   "language": "python",
   "name": "python3"
  },
  "language_info": {
   "codemirror_mode": {
    "name": "ipython",
    "version": 3
   },
   "file_extension": ".py",
   "mimetype": "text/x-python",
   "name": "python",
   "nbconvert_exporter": "python",
   "pygments_lexer": "ipython3",
   "version": "3.10.5"
  }
 },
 "nbformat": 4,
 "nbformat_minor": 1
}
